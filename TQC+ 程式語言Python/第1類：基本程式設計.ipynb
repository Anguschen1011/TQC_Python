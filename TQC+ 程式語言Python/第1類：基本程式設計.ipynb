{
 "cells": [
  {
   "cell_type": "code",
   "execution_count": null,
   "metadata": {},
   "outputs": [],
   "source": [
    "# 1.\n",
    "a=input()\n",
    "b=input()\n",
    "c=input()\n",
    "d=input()\n",
    "print('|{:>5s} {:>5s}|'.format(a,b))\n",
    "print('|{:>5s} {:>5s}|'.format(c,d))\n",
    "print('|{:<5s} {:<5s}|'.format(a,b))\n",
    "print('|{:<5s} {:<5s}|'.format(c,d))"
   ]
  },
  {
   "cell_type": "code",
   "execution_count": null,
   "metadata": {},
   "outputs": [],
   "source": [
    "# 2.\n",
    "a = float(input())\n",
    "b = float(input())\n",
    "c = float(input())\n",
    "d = float(input())\n",
    "\n",
    "print(\"|{:>7.2f} {:>7.2f}|\".format(a, b))\n",
    "print(\"|{:>7.2f} {:>7.2f}|\".format(c, d))\n",
    "print(\"|{:<7.2f} {:<7.2f}|\".format(a, b))\n",
    "print(\"|{:<7.2f} {:<7.2f}|\".format(c, d))"
   ]
  },
  {
   "cell_type": "code",
   "execution_count": null,
   "metadata": {},
   "outputs": [],
   "source": [
    "# 3.\n",
    "a=input()\n",
    "b=input()\n",
    "c=input()\n",
    "d=input()\n",
    "print('|{:>10s} {:>10s}|'.format(a,b))\n",
    "print('|{:>10s} {:>10s}|'.format(c,d))\n",
    "print('|{:<10s} {:<10s}|'.format(a,b))\n",
    "print('|{:<10s} {:<10s}|'.format(c,d))"
   ]
  },
  {
   "cell_type": "code",
   "execution_count": null,
   "metadata": {},
   "outputs": [],
   "source": [
    "# 4.\n",
    "import math\n",
    "\n",
    "r=float(input(\"\"))\n",
    "print(\"Radius = {:.2f}\".format(r))\n",
    "print(\"Perimeter = {:.2f}\".format(2*math.pi*r))\n",
    "print(\"Area = {:.2f}\".format(math.pi*r**2))"
   ]
  },
  {
   "cell_type": "code",
   "execution_count": null,
   "metadata": {},
   "outputs": [],
   "source": [
    "# 5.\n",
    "h = float(input())\n",
    "w = float(input())\n",
    "\n",
    "print(\"Height = {:.2f}\".format(h))\n",
    "print(\"Width = {:.2f}\".format(w))\n",
    "print(\"Perimeter = {:.2f}\".format(2*(h+w)))\n",
    "print(\"Area = {:.2f}\".format(h*w))"
   ]
  },
  {
   "cell_type": "code",
   "execution_count": null,
   "metadata": {},
   "outputs": [],
   "source": [
    "# 6.\n",
    "x = float(input())\n",
    "y = float(input())\n",
    "z = float(input())\n",
    "per_km = z / (x/60 + y/3600)\n",
    "\n",
    "print(\"Speed = {:.1f}\".format(per_km/1.6))"
   ]
  },
  {
   "cell_type": "code",
   "execution_count": null,
   "metadata": {},
   "outputs": [],
   "source": [
    "# 7.\n",
    "l = []\n",
    "total = 0\n",
    "for i in range(5):\n",
    "    a = input()\n",
    "    if '.' in a:\n",
    "        l.append(float(a))\n",
    "        total += float(a)\n",
    "    else:\n",
    "        l.append(int(a))\n",
    "        total += int(a)\n",
    "\n",
    "print(l[0], l[1], l[2], l[3], l[4])\n",
    "print(\"Sum = {:.1f}\".format(total))\n",
    "print(\"Average = {:.1f}\".format(total/5))"
   ]
  },
  {
   "cell_type": "code",
   "execution_count": null,
   "metadata": {},
   "outputs": [],
   "source": [
    "# 8.\n",
    "import math\n",
    "x1 = eval(input())\n",
    "x2 = eval(input())\n",
    "y1 = eval(input())\n",
    "y2 = eval(input())\n",
    "x = (x1-y1)**2\n",
    "y = (x2-y2)**2\n",
    "ans = math.sqrt(x+y)\n",
    "print(\"( {} , {} )\".format(x1, x2))\n",
    "print(\"( {} , {} )\".format(y1, y2))\n",
    "print(\"Distance = {:.4f}\".format(ans))"
   ]
  },
  {
   "cell_type": "code",
   "execution_count": null,
   "metadata": {},
   "outputs": [],
   "source": [
    "# 9.\n",
    "import math\n",
    "s = eval(input())\n",
    "ans = (5*math.pow(s, 2))/(4*math.tan(math.pi/5))\n",
    "print(\"Area = {:.4f}\".format(ans))"
   ]
  },
  {
   "cell_type": "code",
   "execution_count": null,
   "metadata": {},
   "outputs": [],
   "source": [
    "# 10.\n",
    "import math\n",
    "n = eval(input())\n",
    "s = eval(input())\n",
    "ans = (n*math.pow(s, 2))/(4*math.tan(math.pi/n))\n",
    "print(\"Area = {:.4f}\".format(ans))"
   ]
  }
 ],
 "metadata": {
  "kernelspec": {
   "display_name": "base",
   "language": "python",
   "name": "python3"
  },
  "language_info": {
   "codemirror_mode": {
    "name": "ipython",
    "version": 3
   },
   "file_extension": ".py",
   "mimetype": "text/x-python",
   "name": "python",
   "nbconvert_exporter": "python",
   "pygments_lexer": "ipython3",
   "version": "3.11.5"
  }
 },
 "nbformat": 4,
 "nbformat_minor": 2
}
