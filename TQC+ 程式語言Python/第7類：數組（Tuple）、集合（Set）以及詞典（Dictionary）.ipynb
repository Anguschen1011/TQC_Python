{
 "cells": [
  {
   "cell_type": "code",
   "execution_count": null,
   "metadata": {},
   "outputs": [],
   "source": [
    "# 1.\n",
    "l = []\n",
    "while True:\n",
    "    a = int(input())\n",
    "    if a == -9999:\n",
    "        break\n",
    "    else:\n",
    "        l.append(a)\n",
    "length = len(l)\n",
    "sum_num = sum(l)\n",
    "min_num = min(l)\n",
    "max_num = max(l)\n",
    "print(tuple(l))\n",
    "print(\"Length: {}\".format(length))\n",
    "print(\"Max: {}\".format(max_num))\n",
    "print(\"Min: {}\".format(min_num))\n",
    "print(\"Sum: {}\".format(sum_num))\n"
   ]
  },
  {
   "cell_type": "code",
   "execution_count": null,
   "metadata": {},
   "outputs": [],
   "source": [
    "# 2.\n",
    "tuple_1 = ()\n",
    "tuple_2 = ()\n",
    "\n",
    "print(\"Create tuple1:\")\n",
    "while True:\n",
    "    a = int(input())\n",
    "    if a == -9999:\n",
    "        break\n",
    "    else:\n",
    "        tuple_1 += (a, )\n",
    "print(\"Create tuple2:\")\n",
    "while True:\n",
    "    b = int(input())\n",
    "    if b == -9999:\n",
    "        break\n",
    "    else:\n",
    "        tuple_2 += (b, )\n",
    "mix_tuple = tuple_1 + tuple_2\n",
    "print(\"Combined tuple before sorting: {}\".format(mix_tuple))\n",
    "print(\"Combined list after sorting: {}\".format(sorted(mix_tuple)))"
   ]
  },
  {
   "cell_type": "code",
   "execution_count": null,
   "metadata": {},
   "outputs": [],
   "source": [
    "# 3.\n",
    "l = ()\n",
    "while True:\n",
    "    string = input()\n",
    "    if string == 'end':\n",
    "        break\n",
    "    else:\n",
    "        l += (string, )\n",
    "print(l)\n",
    "print(l[:3])\n",
    "print(l[-3:])"
   ]
  },
  {
   "cell_type": "code",
   "execution_count": null,
   "metadata": {},
   "outputs": [],
   "source": [
    "# 4.\n",
    "set_1 = set()\n",
    "while True:\n",
    "    a = int(input())\n",
    "    if a == -9999:\n",
    "        break\n",
    "    else:\n",
    "        set_1.add(a)\n",
    "print(\"Length: {}\".format(len(set_1)))\n",
    "print(\"Max: {}\".format(max(set_1)))\n",
    "print(\"Min: {}\".format(min(set_1)))\n",
    "print(\"Sum: {}\".format(sum(set_1)))"
   ]
  },
  {
   "cell_type": "code",
   "execution_count": null,
   "metadata": {},
   "outputs": [],
   "source": [
    "# 5.\n",
    "set1 = set()\n",
    "set2 = set()\n",
    "set3 = set()\n",
    "\n",
    "print('Input to set1:')\n",
    "for i in range(5):\n",
    "    set1.add(int(input()))\n",
    "    \n",
    "print('Input to set2:')\n",
    "for i in range(3):\n",
    "    set2.add(int(input()))\n",
    "    \n",
    "print('Input to set3:')\n",
    "for i in range(9):\n",
    "    set3.add(int(input()))\n",
    "    \n",
    "print('set2 is subset of set1:',str(set2.issubset(set1)))\n",
    "print('set3 is superset of set1:',str(set3.issuperset(set1)))"
   ]
  },
  {
   "cell_type": "code",
   "execution_count": null,
   "metadata": {},
   "outputs": [],
   "source": [
    "# 6.\n",
    "def check_pangram():\n",
    "    a = input()\n",
    "    a = a.lower()\n",
    "    a = a.replace(' ', '')\n",
    "    a = set(a)\n",
    "    if len(set(a)) >=26:\n",
    "        return True\n",
    "    else:\n",
    "        return False\n",
    "\n",
    "times = int(input())\n",
    "for _  in range(times):\n",
    "    print(check_pangram())"
   ]
  },
  {
   "cell_type": "code",
   "execution_count": null,
   "metadata": {},
   "outputs": [],
   "source": [
    "# 7.\n",
    "set_1 = set()\n",
    "set_2 = set()\n",
    "\n",
    "print(\"Enter group X's subjects:\")\n",
    "while True:\n",
    "    a = input()\n",
    "    if a == 'end':\n",
    "        break\n",
    "    else:\n",
    "        set_1.add(a)\n",
    "print(\"Enter group Y's subjects:\")\n",
    "while True:\n",
    "    b = input()\n",
    "    if b == 'end':\n",
    "        break\n",
    "    else:\n",
    "        set_2.add(b)\n",
    "print(sorted(list(set_1 | set_2)))\n",
    "print(sorted(list(set_1 & set_2)))\n",
    "print(sorted(list(set_2 - set_1)))\n",
    "print(sorted(list((set_1 | set_2) - (set_1 & set_2))))"
   ]
  },
  {
   "cell_type": "code",
   "execution_count": null,
   "metadata": {},
   "outputs": [],
   "source": [
    "# 8.\n",
    "x={}\n",
    "y={}\n",
    "print('Create dict1:')\n",
    "while True:\n",
    "    key = input('Key: ')\n",
    "    if key == 'end':\n",
    "        break\n",
    "    x[key] = input('Value: ')\n",
    "print('Create dict2:')\n",
    "while True:\n",
    "    key = input('Key: ')\n",
    "    if key == 'end':\n",
    "        break\n",
    "    y[key] = input('Value: ')\n",
    "x.update(y)\n",
    "\n",
    "new_key = sorted(x)\n",
    "for key in new_key:\n",
    "    print(\"{}: {}\".format(key, x[key]))"
   ]
  },
  {
   "cell_type": "code",
   "execution_count": null,
   "metadata": {},
   "outputs": [],
   "source": [
    "# 9.\n",
    "d= {}\n",
    "while True:\n",
    "    key = input('Key: ')\n",
    "    if key == 'end': \n",
    "        break\n",
    "    d[key] = input('Value: ')\n",
    "\n",
    "for i in sorted(d):\n",
    "    print(i+': '+d[i])"
   ]
  },
  {
   "cell_type": "code",
   "execution_count": null,
   "metadata": {},
   "outputs": [],
   "source": [
    "# 10.\n",
    "d = {}\n",
    "while True:\n",
    "    key = input('Key: ') \n",
    "    if key == 'end':\n",
    "        break\n",
    "    d[key] = input('Value: ')\n",
    "\n",
    "search = input('Search key: ')\n",
    "print(search in d.keys())"
   ]
  }
 ],
 "metadata": {
  "kernelspec": {
   "display_name": "base",
   "language": "python",
   "name": "python3"
  },
  "language_info": {
   "codemirror_mode": {
    "name": "ipython",
    "version": 3
   },
   "file_extension": ".py",
   "mimetype": "text/x-python",
   "name": "python",
   "nbconvert_exporter": "python",
   "pygments_lexer": "ipython3",
   "version": "3.11.5"
  }
 },
 "nbformat": 4,
 "nbformat_minor": 2
}
