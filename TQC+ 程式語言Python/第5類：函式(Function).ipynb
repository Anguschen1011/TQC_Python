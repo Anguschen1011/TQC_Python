{
 "cells": [
  {
   "cell_type": "code",
   "execution_count": null,
   "metadata": {},
   "outputs": [],
   "source": [
    "# 1.\n",
    "def compute():\n",
    "    department = input()\n",
    "    student_id = input()\n",
    "    name = input()\n",
    "    print(\"Department: {}\".format(department))\n",
    "    print(\"Student ID: {}\".format(student_id))\n",
    "    print(\"Name: {}\".format(name))\n",
    "\n",
    "compute()"
   ]
  },
  {
   "cell_type": "code",
   "execution_count": null,
   "metadata": {},
   "outputs": [],
   "source": [
    "# 2.\n",
    "def compute(x,y):\n",
    "    return x*y\n",
    "\n",
    "x = int(input())\n",
    "y = int(input())\n",
    "\n",
    "print(compute(x,y))"
   ]
  },
  {
   "cell_type": "code",
   "execution_count": null,
   "metadata": {},
   "outputs": [],
   "source": [
    "# 3.\n",
    "def compute(x,y):\n",
    "    total = 0\n",
    "    for i in range(x, y+1):\n",
    "        total += i\n",
    "    return total\n",
    "\n",
    "x = int(input())\n",
    "y = int(input())\n",
    "\n",
    "print(compute(x,y))"
   ]
  },
  {
   "cell_type": "code",
   "execution_count": null,
   "metadata": {},
   "outputs": [],
   "source": [
    "# 4.\n",
    "import math as m\n",
    "def compute(x,y):\n",
    "    return int(m.pow(x,y))\n",
    "\n",
    "x = int(input())\n",
    "y = int(input())\n",
    "\n",
    "print(compute(x,y))"
   ]
  },
  {
   "cell_type": "code",
   "execution_count": null,
   "metadata": {},
   "outputs": [],
   "source": [
    "# 5.\n",
    "def compute(a, x, y):\n",
    "    for _ in range(y):\n",
    "        for _ in range(x):\n",
    "            print(a, end=' ')\n",
    "        print()\n",
    "\n",
    "character = input()\n",
    "x = int(input())\n",
    "y = int(input())\n",
    "compute(character, x, y)"
   ]
  },
  {
   "cell_type": "code",
   "execution_count": null,
   "metadata": {},
   "outputs": [],
   "source": [
    "# 6.\n",
    "import math as m\n",
    "def compute(a, b, c):\n",
    "    check = (b**2)-(4*a*c)\n",
    "    if check == 0:\n",
    "        print(-b/(2*a))\n",
    "    elif check<0:\n",
    "        print(\"Your equation has no root.\")\n",
    "    else:\n",
    "        ans_1 = ((-b + m.sqrt(check))/(2*a))\n",
    "        ans_2 = ((-b - m.sqrt(check))/(2*a))\n",
    "        print(\"{}, {}\".format(ans_1, ans_2))\n",
    "\n",
    "a = int(input())\n",
    "b = int(input())\n",
    "c = int(input())\n",
    "compute(a, b, c)"
   ]
  },
  {
   "cell_type": "code",
   "execution_count": null,
   "metadata": {},
   "outputs": [],
   "source": [
    "# 7.\n",
    "import math\n",
    "\n",
    "def compute(n):\n",
    "    if n <= 1:\n",
    "        return False\n",
    "    if n == 2:\n",
    "        return True\n",
    "    if n % 2 == 0:\n",
    "        return False\n",
    "    \n",
    "    max_divisor = int(math.sqrt(n)) + 1\n",
    "    for d in range(3, max_divisor, 2):\n",
    "        if n % d == 0:\n",
    "            return False\n",
    "    return True\n",
    "\n",
    "a = int(input())\n",
    "\n",
    "if compute(a):\n",
    "    print(\"Prime\")\n",
    "else:\n",
    "    print(\"Not Prime\")\n"
   ]
  },
  {
   "cell_type": "code",
   "execution_count": null,
   "metadata": {},
   "outputs": [],
   "source": [
    "# 8.\n",
    "import math \n",
    "def compute(x,y):\n",
    "  return math.gcd(x,y)\n",
    "x = int(input())\n",
    "y = int(input())\n",
    "print(compute(x,y))"
   ]
  },
  {
   "cell_type": "code",
   "execution_count": null,
   "metadata": {},
   "outputs": [],
   "source": [
    "# 9.\n",
    "import math\n",
    "\n",
    "def compute(x,y,m,n):\n",
    "    # x/y ; m/n ; ans = w/z\n",
    "    z = y*n\n",
    "    w = x*(z/y) + m*(z/n) \n",
    "    div = math.gcd(int(z),int(w))\n",
    "    w /= div\n",
    "    z /= div\n",
    "    print(\"{}/{} + {}/{} = {}/{}\".format(x,y,m,n,int(w),int(z)))\n",
    "\n",
    "x, y = eval(input())\n",
    "m, n = eval(input())\n",
    "compute(x,y,m,n)"
   ]
  },
  {
   "cell_type": "code",
   "execution_count": null,
   "metadata": {},
   "outputs": [],
   "source": [
    "# 10.\n",
    "def compute(n):\n",
    "    result = []\n",
    "    if n==0:\n",
    "        result.append(0)\n",
    "    if n==1:\n",
    "        result.append(1)\n",
    "    for i in range(2, n):\n",
    "        result.append(result[i-2]+result[i-1])\n",
    "    return result\n",
    "\n",
    "n = int(input())\n",
    "for item in compute(n):\n",
    "    print(item, end=' ')"
   ]
  }
 ],
 "metadata": {
  "kernelspec": {
   "display_name": "base",
   "language": "python",
   "name": "python3"
  },
  "language_info": {
   "codemirror_mode": {
    "name": "ipython",
    "version": 3
   },
   "file_extension": ".py",
   "mimetype": "text/x-python",
   "name": "python",
   "nbconvert_exporter": "python",
   "pygments_lexer": "ipython3",
   "version": "3.11.5"
  }
 },
 "nbformat": 4,
 "nbformat_minor": 2
}
