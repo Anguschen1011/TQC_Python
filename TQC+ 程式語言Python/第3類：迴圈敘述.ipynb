{
 "cells": [
  {
   "cell_type": "code",
   "execution_count": null,
   "metadata": {},
   "outputs": [],
   "source": [
    "# 1.\n",
    "a=int(input())\n",
    "b=int(input())\n",
    "sum=0\n",
    "for i in range (a,b+1):\n",
    "   sum+=i\n",
    "print(sum)"
   ]
  },
  {
   "cell_type": "code",
   "execution_count": null,
   "metadata": {},
   "outputs": [],
   "source": [
    "# 2.\n",
    "a=int(input())\n",
    "b=int(input())\n",
    "total = 0\n",
    "for i in range(a, b+1):\n",
    "    if i%2 == 0:\n",
    "        total += i\n",
    "print(total)"
   ]
  },
  {
   "cell_type": "code",
   "execution_count": null,
   "metadata": {},
   "outputs": [],
   "source": [
    "# 3.\n",
    "a = int(input())\n",
    "\n",
    "for i in range(1, a+1):\n",
    "    for j in range(1, i+1):\n",
    "        print(\"{:>4d}\".format(i*j), end='')\n",
    "    print()"
   ]
  },
  {
   "cell_type": "code",
   "execution_count": null,
   "metadata": {},
   "outputs": [],
   "source": [
    "# 4.\n",
    "a = int(input())\n",
    "total = 0\n",
    "for i in range(1 ,a+1):\n",
    "    if i%5 == 0:\n",
    "        total += i\n",
    "print(total)"
   ]
  },
  {
   "cell_type": "code",
   "execution_count": null,
   "metadata": {},
   "outputs": [],
   "source": [
    "# 5.\n",
    "numbers = input()\n",
    "print(numbers[::-1])"
   ]
  },
  {
   "cell_type": "code",
   "execution_count": null,
   "metadata": {},
   "outputs": [],
   "source": [
    "# 6.\n",
    "a = int(input())\n",
    "total = None\n",
    "for i in range(1, a+1):\n",
    "    if i == 1:\n",
    "        total = 1\n",
    "    else:\n",
    "        total *= i\n",
    "print(total)"
   ]
  },
  {
   "cell_type": "code",
   "execution_count": null,
   "metadata": {},
   "outputs": [],
   "source": [
    "# 7.\n",
    "n = int(input())\n",
    "if n<10:\n",
    "    for i in range(1, n+1):\n",
    "        for j in range(1,n+1):\n",
    "            print(\"{} * {} = {:<4d}\".format(j, i, (j*i)), end='')\n",
    "        print()"
   ]
  },
  {
   "cell_type": "code",
   "execution_count": null,
   "metadata": {},
   "outputs": [],
   "source": [
    "# 8.\n",
    "num = int(input())\n",
    "for _ in range(num):\n",
    "    a = input()\n",
    "    total = 0\n",
    "    for number in a:\n",
    "        total += int(number)\n",
    "    print(\"Sum of all digits of {} is {}\".format(a, total))"
   ]
  },
  {
   "cell_type": "code",
   "execution_count": null,
   "metadata": {},
   "outputs": [],
   "source": [
    "# 9.\n",
    "# money = int(input())\n",
    "# year_grow = float(input())\n",
    "# month = int(input())\n",
    "# total = money\n",
    "# print('{} \\t {}'.format('Month', 'Amount'))\n",
    "\n",
    "# for i in range(1,month+1):\n",
    "#     total += total*year_grow/1200\n",
    "#     print(\"{:3d}\\t{:.2f}\".format(i, total))\n",
    "total = eval(input())\n",
    "y = eval(input())\n",
    "m = eval(input())\n",
    "print('%s \\t  %s' % ('Month', 'Amount'))\n",
    "for i in range(1, m + 1):\n",
    "    total += total * y / 1200    \n",
    "    print('%3d \\t %.2f' % (i, total))"
   ]
  },
  {
   "cell_type": "code",
   "execution_count": null,
   "metadata": {},
   "outputs": [],
   "source": [
    "# 10.\n",
    "import math as m\n",
    "n = int(input())\n",
    "total = 0\n",
    "for i in range(1,n):\n",
    "    total += 1/(m.sqrt(i) + m.sqrt(i+1))\n",
    "print(\"{:.4f}\".format(total))"
   ]
  }
 ],
 "metadata": {
  "kernelspec": {
   "display_name": "base",
   "language": "python",
   "name": "python3"
  },
  "language_info": {
   "codemirror_mode": {
    "name": "ipython",
    "version": 3
   },
   "file_extension": ".py",
   "mimetype": "text/x-python",
   "name": "python",
   "nbconvert_exporter": "python",
   "pygments_lexer": "ipython3",
   "version": "3.11.5"
  }
 },
 "nbformat": 4,
 "nbformat_minor": 2
}
