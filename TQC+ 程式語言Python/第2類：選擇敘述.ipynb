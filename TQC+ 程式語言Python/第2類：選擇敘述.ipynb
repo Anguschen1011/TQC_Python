{
 "cells": [
  {
   "cell_type": "code",
   "execution_count": null,
   "metadata": {},
   "outputs": [],
   "source": [
    "# 1.\n",
    "a = eval(input())\n",
    "if a%2 == 0:\n",
    "    print(\"{} is an even number.\".format(a))\n",
    "else:\n",
    "    print(\"{} is not an even number.\".format(a))"
   ]
  },
  {
   "cell_type": "code",
   "execution_count": null,
   "metadata": {},
   "outputs": [],
   "source": [
    "# 2.\n",
    "a = int(input())\n",
    "\n",
    "if a%3==0 and a%5==0:\n",
    "    print(\"{} is a multiple of 3 and 5.\".format(a))\n",
    "elif a%3==0:\n",
    "    print(\"{} is a multiple of 3.\".format(a))\n",
    "elif a%5==0:\n",
    "    print(\"{} is a multiple of 5.\".format(a))\n",
    "else:\n",
    "    print(\"{} is not a multiple of 3 or 5.\".format(a))"
   ]
  },
  {
   "cell_type": "code",
   "execution_count": null,
   "metadata": {},
   "outputs": [],
   "source": [
    "# 3.\n",
    "year = int(input())\n",
    "\n",
    "if (year % 4 == 0 and year % 100 != 0) or year % 400 == 0:\n",
    "    print(\"{} is a leap year.\".format(year))\n",
    "else:\n",
    "    print(\"{} is not a leap year.\".format(year))"
   ]
  },
  {
   "cell_type": "code",
   "execution_count": null,
   "metadata": {},
   "outputs": [],
   "source": [
    "# 4.\n",
    "a = int(input())\n",
    "b = int(input())\n",
    "operation = input() #(+、-、*、/、//、%）\n",
    "\n",
    "if operation == '+':\n",
    "    print(a+b)\n",
    "elif operation == '-':\n",
    "    print(a-b)\n",
    "elif operation == '*':\n",
    "    print(a*b)\n",
    "elif operation == '/':\n",
    "    print(a/b)\n",
    "elif operation == '//':\n",
    "    print(a//b)\n",
    "elif operation == '%':\n",
    "    print(a%b)"
   ]
  },
  {
   "cell_type": "code",
   "execution_count": null,
   "metadata": {},
   "outputs": [],
   "source": [
    "# 5.\n",
    "n=str(input())\n",
    "if(n.isdigit()): print(f'{n} is a number.')\n",
    "elif(n.isalpha()) : print(f'{n} is an alphabet.')\n",
    "else : print(f'{n} is a symbol.')"
   ]
  },
  {
   "cell_type": "code",
   "execution_count": null,
   "metadata": {},
   "outputs": [],
   "source": [
    "# 6.\n",
    "\"\"\"80 ~ 100\tA\n",
    "70 ~ 79\tB\n",
    "60 ~ 69\tC\n",
    "<= 59\tF\"\"\"\n",
    "score = int(input())\n",
    "\n",
    "if score>=80 and score<=100:\n",
    "    print('A')\n",
    "elif score>=70 and score<80:\n",
    "    print('B')\n",
    "elif score>=60 and score<70:\n",
    "    print('C')\n",
    "elif score<=59:\n",
    "    print('F')\n"
   ]
  },
  {
   "cell_type": "code",
   "execution_count": null,
   "metadata": {},
   "outputs": [],
   "source": [
    "# 7.\n",
    "\"\"\"\n",
    "金　　額\t折　扣\n",
    "8,000（含）以上\t9.5折\n",
    "18,000（含）以上\t9折\n",
    "28,000（含）以上\t8折\n",
    "38,000（含）以上\t7折\"\"\"\n",
    "price = int(input())\n",
    "\n",
    "if price>=38000:\n",
    "    print(price*0.7)\n",
    "elif price>=28000:\n",
    "    print(price*0.8)\n",
    "elif price>=18000:\n",
    "    print(price*0.9)\n",
    "elif price>=8000:\n",
    "    print(price*0.95)\n",
    "else:\n",
    "    print(price)\n"
   ]
  },
  {
   "cell_type": "code",
   "execution_count": null,
   "metadata": {},
   "outputs": [],
   "source": [
    "# 8.\n",
    "n = int(input()) #num(0 ≤ num ≤ 15)\n",
    "\n",
    "if n<10 :\n",
    "    print(n)\n",
    "elif n==10 :\n",
    "    print('A')\n",
    "elif n==11 :\n",
    "    print('B')\n",
    "elif n==12 :\n",
    "    print('C')\n",
    "elif n==13 :\n",
    "    print('D')\n",
    "elif n==14 :\n",
    "    print('E')\n",
    "elif n==15 :\n",
    "    print('F')"
   ]
  },
  {
   "cell_type": "code",
   "execution_count": null,
   "metadata": {},
   "outputs": [],
   "source": [
    "# 9.\n",
    "x = eval(input())\n",
    "y = eval(input())\n",
    "\n",
    "dis = ((x-5)**2+(y-6)**2)**0.5\n",
    "if dis>15:\n",
    "    print(\"Outside\")\n",
    "else:\n",
    "    print(\"Inside\")"
   ]
  },
  {
   "cell_type": "code",
   "execution_count": null,
   "metadata": {},
   "outputs": [],
   "source": [
    "# 10.\n",
    "a = int(input())\n",
    "b = int(input())\n",
    "c = int(input())\n",
    "\n",
    "if a+b>c and a+c>b and a+b>c:\n",
    "    print(a+b+c)\n",
    "else:\n",
    "    print('Invalid')"
   ]
  }
 ],
 "metadata": {
  "kernelspec": {
   "display_name": "base",
   "language": "python",
   "name": "python3"
  },
  "language_info": {
   "codemirror_mode": {
    "name": "ipython",
    "version": 3
   },
   "file_extension": ".py",
   "mimetype": "text/x-python",
   "name": "python",
   "nbconvert_exporter": "python",
   "pygments_lexer": "ipython3",
   "version": "3.11.5"
  }
 },
 "nbformat": 4,
 "nbformat_minor": 2
}
