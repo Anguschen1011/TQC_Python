{
 "cells": [
  {
   "cell_type": "code",
   "execution_count": null,
   "metadata": {},
   "outputs": [],
   "source": [
    "# 1.\n",
    "a = input()\n",
    "for i in range(len(a)):\n",
    "    print(\"Index of '{}': {}\".format(a[i], i))"
   ]
  },
  {
   "cell_type": "code",
   "execution_count": null,
   "metadata": {},
   "outputs": [],
   "source": [
    "# 2.\n",
    "a = input()\n",
    "total = 0\n",
    "for i in range(len(a)):\n",
    "    ascii_value = ord(a[i])\n",
    "    total += ascii_value\n",
    "    print(\"ASCII code for '{}' is {}\".format(a[i], ascii_value))\n",
    "print(total)"
   ]
  },
  {
   "cell_type": "code",
   "execution_count": null,
   "metadata": {},
   "outputs": [],
   "source": [
    "# 3.\n",
    "a = input()\n",
    "a = a.split(\" \")\n",
    "print(a[-3], a[-2], a[-1])\n"
   ]
  },
  {
   "cell_type": "code",
   "execution_count": null,
   "metadata": {},
   "outputs": [],
   "source": [
    "# 4.\n",
    "n=input()\n",
    "print(n.upper())\n",
    "print(n.title())"
   ]
  },
  {
   "cell_type": "code",
   "execution_count": null,
   "metadata": {},
   "outputs": [],
   "source": [
    "# 5.\n",
    "n=input()\n",
    "print(\"|{:<10}|\".format(n))\n",
    "print(\"|{:^10}|\".format(n))\n",
    "print(\"|{:>10}|\".format(n))"
   ]
  },
  {
   "cell_type": "code",
   "execution_count": 11,
   "metadata": {},
   "outputs": [
    {
     "name": "stdout",
     "output_type": "stream",
     "text": [
      "u occurs 4 time(s)\n"
     ]
    }
   ],
   "source": [
    "# 6.\n",
    "n = input()\n",
    "w = input()\n",
    "\n",
    "def compute(n, w):\n",
    "    count = 0\n",
    "    for word in n:\n",
    "        if word == w:\n",
    "            count += 1\n",
    "    return count\n",
    "\n",
    "print(\"{} occurs {} time(s)\".format(w, compute(n, w)))"
   ]
  },
  {
   "cell_type": "code",
   "execution_count": 14,
   "metadata": {},
   "outputs": [
    {
     "name": "stdout",
     "output_type": "stream",
     "text": [
      "Total = 23\n",
      "Average = 4.6\n"
     ]
    }
   ],
   "source": [
    "# 7.\n",
    "n = input()\n",
    "n = n.split(\" \")\n",
    "sum = 0\n",
    "for num in n:\n",
    "    sum += int(num)\n",
    "\n",
    "print(\"Total = {}\".format(sum))\n",
    "print(\"Average = {:.1f}\".format(sum/len(n)))"
   ]
  },
  {
   "cell_type": "code",
   "execution_count": null,
   "metadata": {},
   "outputs": [],
   "source": [
    "# 8.\n",
    "num=input().replace(\"-\",\"\")\n",
    "if(num.isdigit()):\n",
    "    print('Valid SSN')  \n",
    "else:\n",
    "    print('Invalid SSN')"
   ]
  },
  {
   "cell_type": "code",
   "execution_count": null,
   "metadata": {},
   "outputs": [],
   "source": [
    "# 9.\n",
    "n = input()\n",
    "check_upper=0\n",
    "for i in range(len(n)):\n",
    "    if n[i].isupper():\n",
    "        check_upper = 1\n",
    "if check_upper == 1 and len(n) >= 8 and n.isalnum():\n",
    "    print(\"Valid password\")\n",
    "else:\n",
    "    print(\"Invalid password\")"
   ]
  },
  {
   "cell_type": "code",
   "execution_count": 9,
   "metadata": {},
   "outputs": [
    {
     "name": "stdout",
     "output_type": "stream",
     "text": [
      "1014.74\n"
     ]
    }
   ],
   "source": [
    "# 10.\n",
    "n = int(input())\n",
    "\n",
    "for i in range(n):\n",
    "    num = input().split(\" \")\n",
    "    num = [float(x) for x in num]\n",
    "    diff = float(max(num)) - float(min(num))\n",
    "    print(\"{:.2f}\".format(diff))"
   ]
  }
 ],
 "metadata": {
  "kernelspec": {
   "display_name": "base",
   "language": "python",
   "name": "python3"
  },
  "language_info": {
   "codemirror_mode": {
    "name": "ipython",
    "version": 3
   },
   "file_extension": ".py",
   "mimetype": "text/x-python",
   "name": "python",
   "nbconvert_exporter": "python",
   "pygments_lexer": "ipython3",
   "version": "3.11.5"
  }
 },
 "nbformat": 4,
 "nbformat_minor": 2
}
