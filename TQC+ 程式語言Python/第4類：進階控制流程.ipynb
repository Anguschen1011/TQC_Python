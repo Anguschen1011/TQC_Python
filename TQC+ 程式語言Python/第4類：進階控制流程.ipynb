{
 "cells": [
  {
   "cell_type": "code",
   "execution_count": null,
   "metadata": {},
   "outputs": [],
   "source": [
    "# 1.\n",
    "l=[]\n",
    "for i in range(10):\n",
    "    number = eval(input())\n",
    "    l.append(number)\n",
    "\n",
    "print(min(l))"
   ]
  },
  {
   "cell_type": "code",
   "execution_count": null,
   "metadata": {},
   "outputs": [],
   "source": [
    "# 2.\n",
    "l = []\n",
    "while True:\n",
    "    number = eval(input())\n",
    "    if number == 9999:\n",
    "        break\n",
    "    l.append(number)\n",
    "\n",
    "print(min(l))"
   ]
  },
  {
   "cell_type": "code",
   "execution_count": null,
   "metadata": {},
   "outputs": [],
   "source": [
    "# 3.\n",
    "a = int(input())\n",
    "b = int(input())\n",
    "line_count = 0\n",
    "num_count = 0\n",
    "total =0\n",
    "\n",
    "for i in range(a, b+1):\n",
    "    if i%4 == 0 or i%9 == 0:\n",
    "        if line_count % 10 == 0:\n",
    "            print()\n",
    "        print(\"{:<4}\".format(i), end='')\n",
    "        line_count += 1\n",
    "        num_count += 1\n",
    "        total += i\n",
    "\n",
    "print()\n",
    "print(num_count)\n",
    "print(total)    "
   ]
  },
  {
   "cell_type": "code",
   "execution_count": null,
   "metadata": {},
   "outputs": [],
   "source": [
    "# 4.\n",
    "a = input()\n",
    "if int(a) == 0:\n",
    "    print(0)\n",
    "else:\n",
    "    print(a[::-1])"
   ]
  },
  {
   "cell_type": "code",
   "execution_count": null,
   "metadata": {},
   "outputs": [],
   "source": [
    "# 5.\n",
    "while True:\n",
    "    score = int(input())\n",
    "    if score == -9999:\n",
    "        break\n",
    "    if score>=90 and score<=100:\n",
    "        print('A')\n",
    "    elif score>=80 and score<90:\n",
    "        print('B')\n",
    "    elif score>=70 and score<80:\n",
    "        print('C')\n",
    "    elif score>=60 and score<70:\n",
    "        print('D')\n",
    "    elif score>=0 and score<60:\n",
    "        print('E')"
   ]
  },
  {
   "cell_type": "code",
   "execution_count": null,
   "metadata": {},
   "outputs": [],
   "source": [
    "# 6.\n",
    "while True:\n",
    "    h = float(input())\n",
    "    if h == -9999:\n",
    "        break\n",
    "    w = float(input())\n",
    "    bmi = w/((h/100)**2)\n",
    "    print(\"BMI: {:.2f}\".format(bmi))\n",
    "    if bmi>=30:\n",
    "        print('State: {}'.format('fat'))\n",
    "    elif bmi>=25 and bmi<30:\n",
    "        print('State: {}'.format('over weight'))\n",
    "    elif bmi>=18.5 and bmi<25:\n",
    "        print('State: {}'.format('normal'))\n",
    "    elif bmi<18.5:\n",
    "        print('State: {}'.format('under weight'))"
   ]
  },
  {
   "cell_type": "code",
   "execution_count": null,
   "metadata": {},
   "outputs": [],
   "source": [
    "# 7.\n",
    "while True:\n",
    "    year = int(input())\n",
    "    if year == -9999:\n",
    "        break\n",
    "    if (year%4 == 0 and year%100 != 0) or year%400 == 0:\n",
    "        print(\"{} is a leap year.\".format(year))\n",
    "    else:\n",
    "        print(\"{} is not a leap year.\".format(year))"
   ]
  },
  {
   "cell_type": "code",
   "execution_count": null,
   "metadata": {},
   "outputs": [],
   "source": [
    "# 8.\n",
    "even = 0\n",
    "odd = 0\n",
    "for _ in range(10):\n",
    "    num = int(input())\n",
    "    if num%2 == 0:\n",
    "        even += 1\n",
    "    else:\n",
    "        odd += 1\n",
    "print(\"Even numbers: {}\".format(even))\n",
    "print(\"Odd numbers: {}\".format(odd))"
   ]
  },
  {
   "cell_type": "code",
   "execution_count": null,
   "metadata": {},
   "outputs": [],
   "source": [
    "# 9.\n",
    "\n",
    "def show(candidates):\n",
    "    print(\"Total votes of No.1: Nami =  {}\".format(candidates[0]))\n",
    "    print(\"Total votes of No.2: Chopper =  {}\".format(candidates[1]))\n",
    "    print(\"Total null votes =  {}\".format(candidates[2]))\n",
    "\n",
    "candidates = [0]*3\n",
    "for i in range(5):\n",
    "    vote = int(input())\n",
    "    if vote == 1:\n",
    "        candidates[0] += 1\n",
    "        show(candidates)\n",
    "    elif vote == 2:\n",
    "        candidates[1] += 1\n",
    "        show(candidates)\n",
    "    else:\n",
    "        candidates[2] += 1\n",
    "        show(candidates)\n",
    "if candidates[0]>candidates[1]:\n",
    "    print(\"=> No.1 Nami won the election.\")\n",
    "elif candidates[1]>candidates[0]:\n",
    "    print(\"=> No.2 Chopper won the election.\")\n",
    "else:\n",
    "    print(\"=> No one won the election.\")"
   ]
  },
  {
   "cell_type": "code",
   "execution_count": 1,
   "metadata": {},
   "outputs": [
    {
     "name": "stdout",
     "output_type": "stream",
     "text": [
      "     *\n",
      "    ***\n",
      "   *****\n",
      "  *******\n",
      " *********\n",
      "***********\n"
     ]
    }
   ],
   "source": [
    "# 10.\n",
    "n = int(input())\n",
    "\n",
    "for i in range(1, n+1):\n",
    "    for j in range(n-i):\n",
    "        print(' ', end='')\n",
    "    for k in range(1, 2*i):\n",
    "        print(\"*\", end='')\n",
    "    print()"
   ]
  }
 ],
 "metadata": {
  "kernelspec": {
   "display_name": "base",
   "language": "python",
   "name": "python3"
  },
  "language_info": {
   "codemirror_mode": {
    "name": "ipython",
    "version": 3
   },
   "file_extension": ".py",
   "mimetype": "text/x-python",
   "name": "python",
   "nbconvert_exporter": "python",
   "pygments_lexer": "ipython3",
   "version": "3.11.5"
  }
 },
 "nbformat": 4,
 "nbformat_minor": 2
}
