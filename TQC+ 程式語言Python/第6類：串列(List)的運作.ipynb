{
 "cells": [
  {
   "cell_type": "code",
   "execution_count": null,
   "metadata": {},
   "outputs": [],
   "source": [
    "# 1.\n",
    "l = []\n",
    "n = 12\n",
    "for i in range(n):\n",
    "    number = int(input())\n",
    "    l.append(number)\n",
    "\n",
    "line_count = 0\n",
    "even_sum = 0\n",
    "\n",
    "for i in range(n):\n",
    "    if line_count%3 == 0 and line_count != 0:\n",
    "        print()\n",
    "    if i%2 == 0:\n",
    "        even_sum += l[i]\n",
    "    print(\"{:>3}\".format(l[i]), end='')\n",
    "    line_count +=1\n",
    "print()\n",
    "print(even_sum)\n"
   ]
  },
  {
   "cell_type": "code",
   "execution_count": null,
   "metadata": {},
   "outputs": [],
   "source": [
    "# 2.\n",
    "points = {'A':1, 'J':11, 'Q':12, 'K':13}\n",
    "n=5\n",
    "total = 0\n",
    "for i in range(n):\n",
    "    card = input()\n",
    "    if card.isdigit():\n",
    "        total += int(card)\n",
    "    else:\n",
    "        total += points[card]\n",
    "print(total)"
   ]
  },
  {
   "cell_type": "code",
   "execution_count": null,
   "metadata": {},
   "outputs": [],
   "source": [
    "# 3.\n",
    "l = []\n",
    "n = 10\n",
    "for i in range(n):\n",
    "    number = int(input())\n",
    "    l.append(number)\n",
    "l.sort(reverse=True)\n",
    "print(l[0], l[1], l[2])"
   ]
  },
  {
   "cell_type": "code",
   "execution_count": null,
   "metadata": {},
   "outputs": [],
   "source": [
    "# 4.\n",
    "l = []\n",
    "n = 10\n",
    "for i in range(n):\n",
    "    number = int(input())\n",
    "    l.append(number)\n",
    "length = max(l) + 1\n",
    "l_count = [0]*length\n",
    "for num in l:\n",
    "    l_count[num] += 1\n",
    "\n",
    "ans = l_count.index(max(l_count)) #取得位址\n",
    "print(ans)\n",
    "print(l_count[ans])"
   ]
  },
  {
   "cell_type": "code",
   "execution_count": null,
   "metadata": {},
   "outputs": [],
   "source": [
    "# 5.\n",
    "l = []\n",
    "n = 10\n",
    "for i in range(n):\n",
    "    number = int(input())\n",
    "    l.append(number)\n",
    "l.remove(max(l))\n",
    "l.remove(min(l))\n",
    "total = 0\n",
    "for score in l:\n",
    "    total += score\n",
    "print(total)\n",
    "print(\"{:.2f}\".format(total/len(l)))"
   ]
  },
  {
   "cell_type": "code",
   "execution_count": null,
   "metadata": {},
   "outputs": [],
   "source": [
    "# 6.\n",
    "def compute(r,c):\n",
    "    for i in range(r):\n",
    "        for j in range(c):\n",
    "          print(\"%4d\"%(j-i), end='')\n",
    "        print()\n",
    "r = int(input())\n",
    "c = int(input())\n",
    "compute(r,c)"
   ]
  },
  {
   "cell_type": "code",
   "execution_count": null,
   "metadata": {},
   "outputs": [],
   "source": [
    "# 7.\n",
    "student_num = 3\n",
    "score_num = 5\n",
    "l = [[0]*score_num for _ in range(student_num)] #l = [[0]*5 for _ in range(3)]\n",
    "n=[\"1st\",\"2nd\",\"3rd\"]\n",
    "for i in range(student_num):\n",
    "    print(\"The {} student:\".format(n[i]))\n",
    "    for j in range(score_num):\n",
    "        score = int(input())\n",
    "        l[i][j] = score\n",
    "\n",
    "for i in range(student_num):\n",
    "    print(\"Student {}\".format(i+1))\n",
    "    print(\"#Sum {}\".format(sum(l[i])))\n",
    "    print(\"#Average {:.2f}\".format(sum(l[i])/score_num))"
   ]
  },
  {
   "cell_type": "code",
   "execution_count": null,
   "metadata": {},
   "outputs": [],
   "source": [
    "# 8.\n",
    "a=[]\n",
    "for i in range(9):\n",
    "  n=int(input())\n",
    "  a.append(n)\n",
    "print(f'Index of the largest number {max(a)} is: ({(a.index(max(a)))//3}, {(a.index(max(a)))%3})')\n",
    "print(f'Index of the smallest number {min(a)} is: ({(a.index(min(a)))//3}, {(a.index(min(a)))%3})')"
   ]
  },
  {
   "cell_type": "code",
   "execution_count": null,
   "metadata": {},
   "outputs": [],
   "source": [
    "# 9.\n",
    "L1 = [[0 for i in range(2)] for j in range(2)]\n",
    "L2 = [[0 for i in range(2)] for j in range(2)]\n",
    "print('Enter matrix 1:')\n",
    "for i in range(2):\n",
    "    for j in range(2):\n",
    "        L1[i][j] = int(input('[%d, %d]: '%(i+1,j+1)))\n",
    " \n",
    "print('Enter matrix 2:')\n",
    "for i in range(2):\n",
    "    for j in range(2):\n",
    "        L2[i][j] = int(input('[%d, %d]: '%(i+1,j+1)))\n",
    " \n",
    "print('Matrix 1:')\n",
    "for i in range(2):\n",
    "    for j in range(2):\n",
    "      print(L1[i][j],end=' ')\n",
    "    print()\n",
    " \n",
    "print('Matrix 2:')\n",
    "for i in range(2):\n",
    "    for j in range(2):\n",
    "      print(L2[i][j],end=' ')\n",
    "    print()\n",
    " \n",
    "print('Sum of 2 matrices:')\n",
    "for i in range(2):\n",
    "    for j in range(2):\n",
    "      print((L1[i][j]+L2[i][j]),end=' ')\n",
    "    print()"
   ]
  },
  {
   "cell_type": "code",
   "execution_count": null,
   "metadata": {},
   "outputs": [],
   "source": [
    "# 10.\n",
    "l=[]\n",
    "for w in range(1,4+1):\n",
    "  print(\"Week %d:\"%w)\n",
    "  for D in range(1,3+1):\n",
    "    x=eval(input(\"Day %d:\"%D))\n",
    "    l.append(x)\n",
    " \n",
    "avg=sum(l)/len(l)\n",
    "print(\"Average: %.2f\"%avg)\n",
    "print(\"Highest:\",max(l))\n",
    "print(\"Lowest:\",min(l))"
   ]
  }
 ],
 "metadata": {
  "kernelspec": {
   "display_name": "base",
   "language": "python",
   "name": "python3"
  },
  "language_info": {
   "codemirror_mode": {
    "name": "ipython",
    "version": 3
   },
   "file_extension": ".py",
   "mimetype": "text/x-python",
   "name": "python",
   "nbconvert_exporter": "python",
   "pygments_lexer": "ipython3",
   "version": "3.11.5"
  }
 },
 "nbformat": 4,
 "nbformat_minor": 2
}
